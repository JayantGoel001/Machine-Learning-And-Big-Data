{
 "cells": [
  {
   "cell_type": "markdown",
   "id": "2cffa624-2610-410b-9305-ee521d5cb7a7",
   "metadata": {},
   "source": [
    "# Polynomial Linear Regression"
   ]
  },
  {
   "cell_type": "code",
   "execution_count": 1,
   "id": "34bdaead-60d8-41fc-8419-2bb7a9f6d8a7",
   "metadata": {},
   "outputs": [],
   "source": [
    "# Importing Libraries\n",
    "import pandas as pd\n",
    "import numpy as np\n",
    "from sklearn.model_selection import train_test_split\n",
    "from sklearn.linear_model import LinearRegression\n",
    "from sklearn.metrics import mean_squared_error,mean_absolute_error\n",
    "import pickle\n",
    "from sklearn import preprocessing\n",
    "from sklearn.preprocessing import PolynomialFeatures\n",
    "import matplotlib.pyplot as plt\n",
    "import seaborn as sns\n",
    "# using Seaborn Style\n",
    "plt.style.use('seaborn')"
   ]
  },
  {
   "cell_type": "code",
   "execution_count": 2,
   "id": "a78205a6-44a6-4064-8039-cab3802dc2a4",
   "metadata": {},
   "outputs": [],
   "source": [
    "# Reading CSV File using Pandas\n",
    "df = pd.read_csv('../Real estate.csv')"
   ]
  },
  {
   "cell_type": "code",
   "execution_count": 3,
   "id": "f4083735-f300-485d-b3d9-22fcb0ceb31a",
   "metadata": {},
   "outputs": [
    {
     "data": {
      "text/plain": [
       "Index(['No', 'X1 transaction date', 'X2 house age',\n",
       "       'X3 distance to the nearest MRT station',\n",
       "       'X4 number of convenience stores', 'X5 latitude', 'X6 longitude',\n",
       "       'Y house price of unit area'],\n",
       "      dtype='object')"
      ]
     },
     "execution_count": 3,
     "metadata": {},
     "output_type": "execute_result"
    }
   ],
   "source": [
    "# Columns Names\n",
    "df.columns"
   ]
  },
  {
   "cell_type": "code",
   "execution_count": 4,
   "id": "2aa581fa-4d22-4626-bee8-4fa38db31006",
   "metadata": {},
   "outputs": [
    {
     "data": {
      "text/html": [
       "<div>\n",
       "<style scoped>\n",
       "    .dataframe tbody tr th:only-of-type {\n",
       "        vertical-align: middle;\n",
       "    }\n",
       "\n",
       "    .dataframe tbody tr th {\n",
       "        vertical-align: top;\n",
       "    }\n",
       "\n",
       "    .dataframe thead th {\n",
       "        text-align: right;\n",
       "    }\n",
       "</style>\n",
       "<table border=\"1\" class=\"dataframe\">\n",
       "  <thead>\n",
       "    <tr style=\"text-align: right;\">\n",
       "      <th></th>\n",
       "      <th>No</th>\n",
       "      <th>X1 transaction date</th>\n",
       "      <th>X2 house age</th>\n",
       "      <th>X3 distance to the nearest MRT station</th>\n",
       "      <th>X4 number of convenience stores</th>\n",
       "      <th>X5 latitude</th>\n",
       "      <th>X6 longitude</th>\n",
       "      <th>Y house price of unit area</th>\n",
       "    </tr>\n",
       "  </thead>\n",
       "  <tbody>\n",
       "    <tr>\n",
       "      <th>0</th>\n",
       "      <td>1</td>\n",
       "      <td>2012.917</td>\n",
       "      <td>32.0</td>\n",
       "      <td>84.87882</td>\n",
       "      <td>10</td>\n",
       "      <td>24.98298</td>\n",
       "      <td>121.54024</td>\n",
       "      <td>37.9</td>\n",
       "    </tr>\n",
       "    <tr>\n",
       "      <th>1</th>\n",
       "      <td>2</td>\n",
       "      <td>2012.917</td>\n",
       "      <td>19.5</td>\n",
       "      <td>306.59470</td>\n",
       "      <td>9</td>\n",
       "      <td>24.98034</td>\n",
       "      <td>121.53951</td>\n",
       "      <td>42.2</td>\n",
       "    </tr>\n",
       "    <tr>\n",
       "      <th>2</th>\n",
       "      <td>3</td>\n",
       "      <td>2013.583</td>\n",
       "      <td>13.3</td>\n",
       "      <td>561.98450</td>\n",
       "      <td>5</td>\n",
       "      <td>24.98746</td>\n",
       "      <td>121.54391</td>\n",
       "      <td>47.3</td>\n",
       "    </tr>\n",
       "    <tr>\n",
       "      <th>3</th>\n",
       "      <td>4</td>\n",
       "      <td>2013.500</td>\n",
       "      <td>13.3</td>\n",
       "      <td>561.98450</td>\n",
       "      <td>5</td>\n",
       "      <td>24.98746</td>\n",
       "      <td>121.54391</td>\n",
       "      <td>54.8</td>\n",
       "    </tr>\n",
       "    <tr>\n",
       "      <th>4</th>\n",
       "      <td>5</td>\n",
       "      <td>2012.833</td>\n",
       "      <td>5.0</td>\n",
       "      <td>390.56840</td>\n",
       "      <td>5</td>\n",
       "      <td>24.97937</td>\n",
       "      <td>121.54245</td>\n",
       "      <td>43.1</td>\n",
       "    </tr>\n",
       "  </tbody>\n",
       "</table>\n",
       "</div>"
      ],
      "text/plain": [
       "   No  X1 transaction date  X2 house age  \\\n",
       "0   1             2012.917          32.0   \n",
       "1   2             2012.917          19.5   \n",
       "2   3             2013.583          13.3   \n",
       "3   4             2013.500          13.3   \n",
       "4   5             2012.833           5.0   \n",
       "\n",
       "   X3 distance to the nearest MRT station  X4 number of convenience stores  \\\n",
       "0                                84.87882                               10   \n",
       "1                               306.59470                                9   \n",
       "2                               561.98450                                5   \n",
       "3                               561.98450                                5   \n",
       "4                               390.56840                                5   \n",
       "\n",
       "   X5 latitude  X6 longitude  Y house price of unit area  \n",
       "0     24.98298     121.54024                        37.9  \n",
       "1     24.98034     121.53951                        42.2  \n",
       "2     24.98746     121.54391                        47.3  \n",
       "3     24.98746     121.54391                        54.8  \n",
       "4     24.97937     121.54245                        43.1  "
      ]
     },
     "execution_count": 4,
     "metadata": {},
     "output_type": "execute_result"
    }
   ],
   "source": [
    "df.head()"
   ]
  },
  {
   "cell_type": "code",
   "execution_count": 5,
   "id": "7b74180e-aaab-479a-b995-6291648d81bc",
   "metadata": {},
   "outputs": [
    {
     "data": {
      "image/png": "[encoded data removed]",
      "text/plain": [
       "<Figure size 576x396 with 2 Axes>"
      ]
     },
     "metadata": {},
     "output_type": "display_data"
    }
   ],
   "source": [
    "# Generating HeatMap of coorelation \n",
    "sns.heatmap(df.corr())\n",
    "plt.show()"
   ]
  },
  {
   "cell_type": "code",
   "execution_count": 6,
   "id": "e17f7817-2bdb-4564-b8fa-1cd89b54c6c4",
   "metadata": {},
   "outputs": [],
   "source": [
    "#Normalizing The Dataset\n",
    "df_norm = pd.DataFrame(preprocessing.normalize(df),columns=df.columns)"
   ]
  },
  {
   "cell_type": "code",
   "execution_count": 7,
   "id": "3f542cee-74b3-426f-be57-1776b7c8d378",
   "metadata": {},
   "outputs": [
    {
     "data": {
      "text/html": [
       "<div>\n",
       "<style scoped>\n",
       "    .dataframe tbody tr th:only-of-type {\n",
       "        vertical-align: middle;\n",
       "    }\n",
       "\n",
       "    .dataframe tbody tr th {\n",
       "        vertical-align: top;\n",
       "    }\n",
       "\n",
       "    .dataframe thead th {\n",
       "        text-align: right;\n",
       "    }\n",
       "</style>\n",
       "<table border=\"1\" class=\"dataframe\">\n",
       "  <thead>\n",
       "    <tr style=\"text-align: right;\">\n",
       "      <th></th>\n",
       "      <th>No</th>\n",
       "      <th>X1 transaction date</th>\n",
       "      <th>X2 house age</th>\n",
       "      <th>X3 distance to the nearest MRT station</th>\n",
       "      <th>X4 number of convenience stores</th>\n",
       "      <th>X5 latitude</th>\n",
       "      <th>X6 longitude</th>\n",
       "      <th>Y house price of unit area</th>\n",
       "    </tr>\n",
       "  </thead>\n",
       "  <tbody>\n",
       "    <tr>\n",
       "      <th>0</th>\n",
       "      <td>0.000495</td>\n",
       "      <td>0.996909</td>\n",
       "      <td>0.015848</td>\n",
       "      <td>0.042037</td>\n",
       "      <td>0.004953</td>\n",
       "      <td>0.012373</td>\n",
       "      <td>0.060194</td>\n",
       "      <td>0.018770</td>\n",
       "    </tr>\n",
       "    <tr>\n",
       "      <th>1</th>\n",
       "      <td>0.000980</td>\n",
       "      <td>0.986502</td>\n",
       "      <td>0.009557</td>\n",
       "      <td>0.150258</td>\n",
       "      <td>0.004411</td>\n",
       "      <td>0.012243</td>\n",
       "      <td>0.059565</td>\n",
       "      <td>0.020682</td>\n",
       "    </tr>\n",
       "    <tr>\n",
       "      <th>2</th>\n",
       "      <td>0.001432</td>\n",
       "      <td>0.961229</td>\n",
       "      <td>0.006349</td>\n",
       "      <td>0.268276</td>\n",
       "      <td>0.002387</td>\n",
       "      <td>0.011928</td>\n",
       "      <td>0.058022</td>\n",
       "      <td>0.022580</td>\n",
       "    </tr>\n",
       "    <tr>\n",
       "      <th>3</th>\n",
       "      <td>0.001909</td>\n",
       "      <td>0.961141</td>\n",
       "      <td>0.006349</td>\n",
       "      <td>0.268263</td>\n",
       "      <td>0.002387</td>\n",
       "      <td>0.011928</td>\n",
       "      <td>0.058019</td>\n",
       "      <td>0.026159</td>\n",
       "    </tr>\n",
       "    <tr>\n",
       "      <th>4</th>\n",
       "      <td>0.002434</td>\n",
       "      <td>0.979673</td>\n",
       "      <td>0.002434</td>\n",
       "      <td>0.190095</td>\n",
       "      <td>0.002434</td>\n",
       "      <td>0.012158</td>\n",
       "      <td>0.059156</td>\n",
       "      <td>0.020977</td>\n",
       "    </tr>\n",
       "  </tbody>\n",
       "</table>\n",
       "</div>"
      ],
      "text/plain": [
       "         No  X1 transaction date  X2 house age  \\\n",
       "0  0.000495             0.996909      0.015848   \n",
       "1  0.000980             0.986502      0.009557   \n",
       "2  0.001432             0.961229      0.006349   \n",
       "3  0.001909             0.961141      0.006349   \n",
       "4  0.002434             0.979673      0.002434   \n",
       "\n",
       "   X3 distance to the nearest MRT station  X4 number of convenience stores  \\\n",
       "0                                0.042037                         0.004953   \n",
       "1                                0.150258                         0.004411   \n",
       "2                                0.268276                         0.002387   \n",
       "3                                0.268263                         0.002387   \n",
       "4                                0.190095                         0.002434   \n",
       "\n",
       "   X5 latitude  X6 longitude  Y house price of unit area  \n",
       "0     0.012373      0.060194                    0.018770  \n",
       "1     0.012243      0.059565                    0.020682  \n",
       "2     0.011928      0.058022                    0.022580  \n",
       "3     0.011928      0.058019                    0.026159  \n",
       "4     0.012158      0.059156                    0.020977  "
      ]
     },
     "execution_count": 7,
     "metadata": {},
     "output_type": "execute_result"
    }
   ],
   "source": [
    "df_norm.head()"
   ]
  },
  {
   "cell_type": "code",
   "execution_count": 8,
   "id": "de6800a7-7c6a-4b70-8577-47c45bd198f0",
   "metadata": {},
   "outputs": [
    {
     "data": {
      "text/plain": [
       "['X1 transaction date',\n",
       " 'X2 house age',\n",
       " 'X3 distance to the nearest MRT station',\n",
       " 'X4 number of convenience stores',\n",
       " 'X5 latitude',\n",
       " 'X6 longitude']"
      ]
     },
     "execution_count": 8,
     "metadata": {},
     "output_type": "execute_result"
    }
   ],
   "source": [
    "independent_variables = df.columns.to_list()\n",
    "independent_variables.remove(\"No\")\n",
    "independent_variables.remove(\"Y house price of unit area\")\n",
    "independent_variables"
   ]
  },
  {
   "cell_type": "code",
   "execution_count": 9,
   "id": "dbea8962-3849-4376-8be9-d0d04aa2d1d0",
   "metadata": {},
   "outputs": [],
   "source": [
    "X,y = df_norm[independent_variables].values,df_norm[\"Y house price of unit area\"].values"
   ]
  },
  {
   "cell_type": "code",
   "execution_count": 10,
   "id": "75160d7a-f267-42b0-aec0-c3299da7a224",
   "metadata": {},
   "outputs": [
    {
     "data": {
      "text/plain": [
       "((414, 6), (414,))"
      ]
     },
     "execution_count": 10,
     "metadata": {},
     "output_type": "execute_result"
    }
   ],
   "source": [
    "# Shape of X and y\n",
    "X.shape,y.shape"
   ]
  },
  {
   "cell_type": "code",
   "execution_count": 11,
   "id": "c2ac7d21-87f0-4897-88f8-b10d14885258",
   "metadata": {},
   "outputs": [
    {
     "data": {
      "image/png": "[encoded data removed]",
      "text/plain": [
       "<Figure size 576x396 with 1 Axes>"
      ]
     },
     "metadata": {},
     "output_type": "display_data"
    }
   ],
   "source": [
    "# Plot Between X1 and y && X2 and y\n",
    "for i in range(len(independent_variables)):\n",
    "    plt.scatter(X[:,i],y,label = independent_variables[i])\n",
    "    plt.legend()\n",
    "plt.title(\"X vs y\")\n",
    "plt.show()"
   ]
  },
  {
   "cell_type": "code",
   "execution_count": 12,
   "id": "ddfd2504-749f-4705-a0c6-3855d2df1078",
   "metadata": {},
   "outputs": [
    {
     "data": {
      "text/plain": [
       "PolynomialFeatures(degree=4)"
      ]
     },
     "execution_count": 12,
     "metadata": {},
     "output_type": "execute_result"
    }
   ],
   "source": [
    "# Generating Polynomial Features of degree 4\n",
    "poly = PolynomialFeatures(4)\n",
    "X_poly = poly.fit_transform(X)\n",
    "poly.fit(X_poly,y)"
   ]
  },
  {
   "cell_type": "code",
   "execution_count": 13,
   "id": "0806da6d-8961-46cf-858a-1b7a563f8360",
   "metadata": {},
   "outputs": [],
   "source": [
    "# Splitting dataset in training and testing dataset\n",
    "X_poly_train, X_poly_test, y_train, y_test = train_test_split(X_poly, y, test_size=0.25, random_state=42)"
   ]
  },
  {
   "cell_type": "code",
   "execution_count": 14,
   "id": "89c3f437-651b-41e5-aace-145fcf3af86c",
   "metadata": {},
   "outputs": [],
   "source": [
    "# creating Linear Regression model\n",
    "model = LinearRegression()"
   ]
  },
  {
   "cell_type": "code",
   "execution_count": 15,
   "id": "4ede537e-0592-4187-927f-009787fd3618",
   "metadata": {},
   "outputs": [
    {
     "data": {
      "text/plain": [
       "LinearRegression()"
      ]
     },
     "execution_count": 15,
     "metadata": {},
     "output_type": "execute_result"
    }
   ],
   "source": [
    "# Fitting the model\n",
    "model.fit(X_poly_train,y_train)"
   ]
  },
  {
   "cell_type": "code",
   "execution_count": 16,
   "id": "ea7a9665-ddab-42b0-a878-49315fa54036",
   "metadata": {},
   "outputs": [],
   "source": [
    "# Saving the model using pickle\n",
    "_model = \"model.sav\"\n",
    "with open(_model,\"wb+\") as f:\n",
    "    pickle.dump(model,f)"
   ]
  },
  {
   "cell_type": "code",
   "execution_count": 17,
   "id": "a698f851-9b48-4f03-a3c0-a216377cc7b4",
   "metadata": {},
   "outputs": [],
   "source": [
    "#Loading the model using pickle\n",
    "with open(_model,\"rb+\") as f:\n",
    "    model = pickle.load(f)"
   ]
  },
  {
   "cell_type": "code",
   "execution_count": 18,
   "id": "c9119cd6-67c6-45c5-9e86-1a13d83039df",
   "metadata": {},
   "outputs": [],
   "source": [
    "# Generating prediction of X_train and X_test \n",
    "y_train_predicted = model.predict(X_poly_train)\n",
    "y_test_predicted = model.predict(X_poly_test)"
   ]
  },
  {
   "cell_type": "code",
   "execution_count": 19,
   "id": "14a1986b-83ce-48b6-99a1-6e1c95cdf023",
   "metadata": {},
   "outputs": [],
   "source": [
    "# Saving Comparison of y_test_actual Vs y_test_predicted\n",
    "yTestDF = pd.DataFrame({'y_test_actual' : y_test,'y_test_predicted' : y_test_predicted})\n",
    "yTestDF.to_csv('y_test.csv',index=False)\n",
    "\n",
    "# Saving Comparison of y_train_actual Vs y_train_predicted\n",
    "yTrainDF = pd.DataFrame({'y_train_actual' : y_train,'y_train_predicted' : y_train_predicted})\n",
    "yTrainDF.to_csv('y_train.csv',index=False)"
   ]
  },
  {
   "cell_type": "code",
   "execution_count": 20,
   "id": "2bfed901-ae88-4199-8253-4fbafda85d2e",
   "metadata": {},
   "outputs": [
    {
     "data": {
      "text/plain": [
       "(array([-1.04181084e+12,  3.55945990e+04,  1.40184298e+04,  1.39037394e+02,\n",
       "        -4.19277837e+04, -7.63829070e+06,  9.83162959e+05, -1.92847120e+07,\n",
       "        -8.36860915e+05, -2.43617880e+04, -2.78669132e+06, -1.24346629e+09,\n",
       "         8.92636999e+08,  8.52306298e+04, -2.68755255e+04, -2.48446118e+06,\n",
       "         2.06907036e+07,  9.04305211e+06, -3.05471943e+02,  7.10610334e+04,\n",
       "         1.63168007e+07, -2.95738075e+06, -6.38542221e+05,  5.33157235e+08,\n",
       "        -6.14772036e+07,  1.90218769e+09,  2.01917074e+10, -9.49178518e+09,\n",
       "        -4.16781846e+07, -2.93358837e+08,  1.59418859e+07, -9.08038558e+08,\n",
       "         1.53070954e+09,  2.32465142e+09,  4.98518740e+06, -2.49204819e+05,\n",
       "         1.35202410e+08, -2.48035837e+10,  1.48263988e+10, -2.84942120e+03,\n",
       "         9.80452088e+05,  1.09464293e+09, -7.51862246e+08,  3.99305066e+08,\n",
       "         5.26455764e+08,  2.99880920e+10, -3.76585513e+09, -1.07357506e+10,\n",
       "        -5.07294696e+10,  1.50215721e+06, -6.54274321e+04,  6.29691911e+06,\n",
       "        -6.04944192e+08,  3.81871648e+07,  1.68078610e+04,  2.33620398e+06,\n",
       "        -1.04180978e+07,  7.01711111e+06, -1.60622753e+07,  3.32354184e+09,\n",
       "        -2.84480250e+09,  3.67670633e+11,  2.59055536e+11, -1.49422987e+11,\n",
       "         2.19747364e+02, -3.71482530e+04, -1.17274546e+07,  2.46537491e+06,\n",
       "        -1.44671478e+06, -5.61497486e+08,  9.68687942e+07,  1.09647053e+09,\n",
       "        -1.90613281e+10,  8.22482702e+09, -1.26688509e+07, -8.06372971e+09,\n",
       "        -4.92660643e+09,  1.94312060e+10, -3.10809845e+10, -2.43842862e+11,\n",
       "        -3.56516833e+10, -1.08392668e+11, -1.73824626e+11,  3.85370611e+11,\n",
       "        -8.18852768e+07,  2.93100061e+08, -4.81882944e+07,  8.75492474e+08,\n",
       "        -1.86486920e+09,  4.19030672e+09, -1.20651148e+09,  1.57055402e+08,\n",
       "        -2.41106502e+08,  2.40119375e+10, -1.45606736e+10, -6.58495991e+05,\n",
       "         4.89849953e+08, -1.26300860e+09,  2.37271630e+09, -5.55931024e+08,\n",
       "        -3.09687831e+09, -2.81782797e+10,  1.67196317e+10,  3.68988027e+10,\n",
       "        -6.67491320e+10,  3.36825842e+07,  1.69996418e+06,  3.00218478e+08,\n",
       "        -1.13873161e+10,  4.22069586e+10,  6.35972810e+05, -4.04405488e+07,\n",
       "         7.68345424e+09, -6.77862691e+09,  2.20970503e+08, -3.91593896e+09,\n",
       "         6.51986813e+09, -3.68035714e+11, -2.43559863e+11,  1.43293520e+11,\n",
       "         1.69521470e+02,  1.23003304e+06, -1.45175295e+08,  5.14784151e+07,\n",
       "        -9.68409599e+07,  9.77841245e+09, -1.82438161e+10,  4.17164737e+09,\n",
       "         2.17880230e+10, -3.50078767e+10,  1.11524421e+09,  4.41515317e+09,\n",
       "         1.08522710e+10,  1.30091114e+11,  3.29948041e+09,  2.28308744e+11,\n",
       "        -3.48335896e+10, -1.04589693e+11, -1.61730373e+11,  3.29366959e+11,\n",
       "         7.07267900e+06, -6.38706681e+05, -2.60736724e+07,  1.89712668e+09,\n",
       "        -9.75113452e+08,  9.64288711e+03, -4.18545503e+05,  6.92365948e+07,\n",
       "        -4.10025190e+07,  4.15284936e+06, -6.69039953e+09, -3.69363477e+09,\n",
       "         8.35831197e+10,  1.63663196e+11, -3.66455902e+11, -3.66648885e+03,\n",
       "        -6.41361254e+05,  1.97877454e+06, -1.11715707e+07, -1.52549422e+07,\n",
       "        -2.09226087e+09,  1.06504608e+09, -1.07792560e+11, -8.27383410e+10,\n",
       "         6.45863673e+10,  1.37890633e+08, -1.24904239e+11,  2.23029627e+10,\n",
       "         1.23248901e+10,  2.34022838e+10, -3.44548309e+10, -1.39926997e+10,\n",
       "        -2.92459685e+10, -2.93467080e+10,  2.94221920e+10, -4.92572269e+01,\n",
       "         8.11155184e+03,  2.43568467e+06, -5.06153524e+05,  9.76753584e+05,\n",
       "         1.65890937e+08, -5.38802342e+07, -1.05928107e+09,  3.00973714e+09,\n",
       "        -7.51682758e+08,  3.77991806e+07,  1.15100218e+10, -7.44180655e+08,\n",
       "        -2.70407732e+11, -4.35926695e+10,  1.54903506e+11, -6.29734561e+09,\n",
       "        -1.69711646e+10, -3.14189866e+10,  1.49229918e+11,  3.78724392e+08,\n",
       "         2.59337412e+11, -7.17515360e+10,  6.61322835e+08, -4.07526730e+09,\n",
       "        -4.17584974e+10,  4.73712976e+09,  7.65394442e+09,  2.80618715e+09,\n",
       "         4.22860383e+10, -1.74401506e+09, -6.05028093e+09, -1.68048394e+10,\n",
       "        -2.54685042e+10,  8.09966992e+10]),\n",
       " 1041810839695.6604)"
      ]
     },
     "execution_count": 20,
     "metadata": {},
     "output_type": "execute_result"
    }
   ],
   "source": [
    "# Model's Coefficient and Intercept\n",
    "model.coef_,model.intercept_,"
   ]
  },
  {
   "cell_type": "markdown",
   "id": "b000d296-524c-411e-9272-e92d366fd309",
   "metadata": {
    "tags": []
   },
   "source": [
    "### Linear Regression\n",
    "<strong> y = poly_transform(x<sup>T</sup>) * m + c </strong>\n",
    "\n",
    "Here,\n",
    "x = indepedent variable <br>\n",
    "y = House price of unit area<br>\n",
    "\n",
    "m = model.coef_ i.e. slope<br>\n",
    "c = model.intercept_ i.e. intercept<br>\n",
    "\n",
    "m.shape = (210,1)<br>\n",
    "\n",
    "let n be the number of elements in X <br>\n",
    "\n",
    "x.shape = (n,6)<br>\n",
    "x<sup>T</sup>.shape = (6,n)<br>\n",
    "poly_transform.shape = (210,n)<br>\n",
    "\n",
    "c.shape = (1,1)<br>\n",
    "y.shape = (210,6) * (210,1) + (1,1)<br>\n",
    "y.shape = (n,1)<br>"
   ]
  },
  {
   "cell_type": "code",
   "execution_count": 21,
   "id": "1aea779d-b56b-4694-b0c7-582d67197de7",
   "metadata": {},
   "outputs": [],
   "source": [
    "# Genrating a Best Fit Line\n",
    "m = model.coef_\n",
    "c = model.intercept_\n",
    "\n",
    "_X = []\n",
    "for i in range(len(independent_variables)):\n",
    "    _X.append(np.linspace(min(X[:,i]),max(X[:,i]),100))\n",
    "\n",
    "_XT = np.transpose(_X)\n",
    "_XT_poly = poly.fit_transform(_XT)\n",
    "_y = np.dot(_XT_poly,m) + c"
   ]
  },
  {
   "cell_type": "code",
   "execution_count": 22,
   "id": "8476c204-639e-4057-a315-d699e6973d38",
   "metadata": {},
   "outputs": [
    {
     "data": {
      "image/png": "[encoded data removed]",
      "text/plain": [
       "<Figure size 576x396 with 1 Axes>"
      ]
     },
     "metadata": {},
     "output_type": "display_data"
    }
   ],
   "source": [
    "#plotting The Best Fit Line\n",
    "for i in range(len(independent_variables)):\n",
    "    plt.plot(_X[i],_y,label=independent_variables[i] + \" vs y\")\n",
    "    plt.legend()\n",
    "plt.title(\"Best Fit Line\")\n",
    "plt.show()"
   ]
  },
  {
   "cell_type": "code",
   "execution_count": 23,
   "id": "06ca54d1-9fcc-4455-a099-197f7ca15480",
   "metadata": {},
   "outputs": [
    {
     "name": "stdout",
     "output_type": "stream",
     "text": [
      "[0.7917806996384039, 0.06291588852786793, -0.8490051041799057, 0.6588178578231008, 0.7920124632497336, 0.7917306759597925]\n",
      "\n",
      "Since Absolute Value of X3 distance to the nearest MRT station is greater than rest attributes, that means Distance to the nearest MRT station is more significant predictor of house price.\n"
     ]
    }
   ],
   "source": [
    "# Genrating Correlation between X and y\n",
    "\n",
    "correlation = []\n",
    "\n",
    "for i in range(len(independent_variables)):\n",
    "    correlation.append(pd.Series(y).corr(pd.Series(X[:,i])))\n",
    "\n",
    "print(correlation,end=\"\\n\\n\")\n",
    "\n",
    "correlation = np.abs(correlation)\n",
    "\n",
    "print(\"Since Absolute Value of \"+ independent_variables[np.argmax(correlation)] +\" is greater than rest attributes, that means Distance to the nearest MRT station is more significant predictor of house price.\")"
   ]
  },
  {
   "cell_type": "code",
   "execution_count": 24,
   "id": "553f8bb1-cd9e-4e47-85af-9b86786eb81e",
   "metadata": {},
   "outputs": [],
   "source": [
    "# Calculating all Errors\n",
    "def calculateError(y_actual,y_pred):\n",
    "    MSE = mean_squared_error(y_actual,y_pred)\n",
    "    MAE = mean_absolute_error(y_actual,y_pred)\n",
    "    RMSE = np.sqrt(MSE)\n",
    "    return MSE,MAE,RMSE"
   ]
  },
  {
   "cell_type": "code",
   "execution_count": 25,
   "id": "b7d237f9-440f-497a-9cad-62f0bac3b80c",
   "metadata": {},
   "outputs": [],
   "source": [
    "err = calculateError(y_train,y_train_predicted)\n",
    "trainError = {\n",
    "    \"Mean Square Error\" : err[0],\n",
    "    \"Mean Absolute Error\" : err[1],\n",
    "    \"Root Mean Square Error\" : err[2]\n",
    "}\n",
    "\n",
    "err = calculateError(y_test,y_test_predicted)\n",
    "testError = {\n",
    "    \"Mean Square Error\" : err[0],\n",
    "    \"Mean Absolute Error\" : err[1],\n",
    "    \"Root Mean Square Error\" : err[2]\n",
    "}"
   ]
  },
  {
   "cell_type": "code",
   "execution_count": 26,
   "id": "ca785593-3969-45da-a157-71c8ea3dce0e",
   "metadata": {},
   "outputs": [
    {
     "data": {
      "text/plain": [
       "{'Mean Square Error': 0.00010632120968920881,\n",
       " 'Mean Absolute Error': 0.008029563760109269,\n",
       " 'Root Mean Square Error': 0.010311217662779155}"
      ]
     },
     "execution_count": 26,
     "metadata": {},
     "output_type": "execute_result"
    }
   ],
   "source": [
    "trainError"
   ]
  },
  {
   "cell_type": "code",
   "execution_count": 27,
   "id": "4255ff0b-c4c0-4730-99ff-575b4bbc59c1",
   "metadata": {},
   "outputs": [
    {
     "data": {
      "text/plain": [
       "{'Mean Square Error': 0.00034061692509915485,\n",
       " 'Mean Absolute Error': 0.013432365915228476,\n",
       " 'Root Mean Square Error': 0.01845581006347743}"
      ]
     },
     "execution_count": 27,
     "metadata": {},
     "output_type": "execute_result"
    }
   ],
   "source": [
    "testError"
   ]
  },
  {
   "cell_type": "code",
   "execution_count": null,
   "id": "21b34edc-472b-4e4d-9273-569119e37bad",
   "metadata": {},
   "outputs": [],
   "source": []
  }
 ],
 "metadata": {
  "kernelspec": {
   "display_name": "Python 3 (ipykernel)",
   "language": "python",
   "name": "python3"
  },
  "language_info": {
   "codemirror_mode": {
    "name": "ipython",
    "version": 3
   },
   "file_extension": ".py",
   "mimetype": "text/x-python",
   "name": "python",
   "nbconvert_exporter": "python",
   "pygments_lexer": "ipython3",
   "version": "3.9.6"
  }
 },
 "nbformat": 4,
 "nbformat_minor": 5
}
