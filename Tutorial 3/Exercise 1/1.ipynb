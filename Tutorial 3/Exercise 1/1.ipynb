{
 "cells": [
  {
   "cell_type": "code",
   "execution_count": 1,
   "id": "34bdaead-60d8-41fc-8419-2bb7a9f6d8a7",
   "metadata": {},
   "outputs": [],
   "source": [
    "# Importing Libraries\n",
    "import pandas as pd\n",
    "import numpy as np\n",
    "from sklearn.model_selection import train_test_split\n",
    "from sklearn.linear_model import LinearRegression\n",
    "from sklearn.metrics import mean_squared_error,mean_absolute_error\n",
    "import pickle\n",
    "from sklearn import preprocessing\n",
    "import matplotlib.pyplot as plt\n",
    "# using Seaborn Style\n",
    "plt.style.use('seaborn')"
   ]
  },
  {
   "cell_type": "code",
   "execution_count": 2,
   "id": "a78205a6-44a6-4064-8039-cab3802dc2a4",
   "metadata": {},
   "outputs": [],
   "source": [
    "# Reading CSV File using Pandas\n",
    "df = pd.read_csv('../Real estate.csv')"
   ]
  },
  {
   "cell_type": "code",
   "execution_count": 3,
   "id": "f4083735-f300-485d-b3d9-22fcb0ceb31a",
   "metadata": {},
   "outputs": [
    {
     "data": {
      "text/plain": [
       "Index(['No', 'X1 transaction date', 'X2 house age',\n",
       "       'X3 distance to the nearest MRT station',\n",
       "       'X4 number of convenience stores', 'X5 latitude', 'X6 longitude',\n",
       "       'Y house price of unit area'],\n",
       "      dtype='object')"
      ]
     },
     "execution_count": 3,
     "metadata": {},
     "output_type": "execute_result"
    }
   ],
   "source": [
    "# Columns Names\n",
    "df.columns"
   ]
  },
  {
   "cell_type": "code",
   "execution_count": 4,
   "id": "2aa581fa-4d22-4626-bee8-4fa38db31006",
   "metadata": {},
   "outputs": [
    {
     "data": {
      "text/html": [
       "<div>\n",
       "<style scoped>\n",
       "    .dataframe tbody tr th:only-of-type {\n",
       "        vertical-align: middle;\n",
       "    }\n",
       "\n",
       "    .dataframe tbody tr th {\n",
       "        vertical-align: top;\n",
       "    }\n",
       "\n",
       "    .dataframe thead th {\n",
       "        text-align: right;\n",
       "    }\n",
       "</style>\n",
       "<table border=\"1\" class=\"dataframe\">\n",
       "  <thead>\n",
       "    <tr style=\"text-align: right;\">\n",
       "      <th></th>\n",
       "      <th>No</th>\n",
       "      <th>X1 transaction date</th>\n",
       "      <th>X2 house age</th>\n",
       "      <th>X3 distance to the nearest MRT station</th>\n",
       "      <th>X4 number of convenience stores</th>\n",
       "      <th>X5 latitude</th>\n",
       "      <th>X6 longitude</th>\n",
       "      <th>Y house price of unit area</th>\n",
       "    </tr>\n",
       "  </thead>\n",
       "  <tbody>\n",
       "    <tr>\n",
       "      <th>0</th>\n",
       "      <td>1</td>\n",
       "      <td>2012.917</td>\n",
       "      <td>32.0</td>\n",
       "      <td>84.87882</td>\n",
       "      <td>10</td>\n",
       "      <td>24.98298</td>\n",
       "      <td>121.54024</td>\n",
       "      <td>37.9</td>\n",
       "    </tr>\n",
       "    <tr>\n",
       "      <th>1</th>\n",
       "      <td>2</td>\n",
       "      <td>2012.917</td>\n",
       "      <td>19.5</td>\n",
       "      <td>306.59470</td>\n",
       "      <td>9</td>\n",
       "      <td>24.98034</td>\n",
       "      <td>121.53951</td>\n",
       "      <td>42.2</td>\n",
       "    </tr>\n",
       "    <tr>\n",
       "      <th>2</th>\n",
       "      <td>3</td>\n",
       "      <td>2013.583</td>\n",
       "      <td>13.3</td>\n",
       "      <td>561.98450</td>\n",
       "      <td>5</td>\n",
       "      <td>24.98746</td>\n",
       "      <td>121.54391</td>\n",
       "      <td>47.3</td>\n",
       "    </tr>\n",
       "    <tr>\n",
       "      <th>3</th>\n",
       "      <td>4</td>\n",
       "      <td>2013.500</td>\n",
       "      <td>13.3</td>\n",
       "      <td>561.98450</td>\n",
       "      <td>5</td>\n",
       "      <td>24.98746</td>\n",
       "      <td>121.54391</td>\n",
       "      <td>54.8</td>\n",
       "    </tr>\n",
       "    <tr>\n",
       "      <th>4</th>\n",
       "      <td>5</td>\n",
       "      <td>2012.833</td>\n",
       "      <td>5.0</td>\n",
       "      <td>390.56840</td>\n",
       "      <td>5</td>\n",
       "      <td>24.97937</td>\n",
       "      <td>121.54245</td>\n",
       "      <td>43.1</td>\n",
       "    </tr>\n",
       "  </tbody>\n",
       "</table>\n",
       "</div>"
      ],
      "text/plain": [
       "   No  X1 transaction date  X2 house age  \\\n",
       "0   1             2012.917          32.0   \n",
       "1   2             2012.917          19.5   \n",
       "2   3             2013.583          13.3   \n",
       "3   4             2013.500          13.3   \n",
       "4   5             2012.833           5.0   \n",
       "\n",
       "   X3 distance to the nearest MRT station  X4 number of convenience stores  \\\n",
       "0                                84.87882                               10   \n",
       "1                               306.59470                                9   \n",
       "2                               561.98450                                5   \n",
       "3                               561.98450                                5   \n",
       "4                               390.56840                                5   \n",
       "\n",
       "   X5 latitude  X6 longitude  Y house price of unit area  \n",
       "0     24.98298     121.54024                        37.9  \n",
       "1     24.98034     121.53951                        42.2  \n",
       "2     24.98746     121.54391                        47.3  \n",
       "3     24.98746     121.54391                        54.8  \n",
       "4     24.97937     121.54245                        43.1  "
      ]
     },
     "execution_count": 4,
     "metadata": {},
     "output_type": "execute_result"
    }
   ],
   "source": [
    "df.head()"
   ]
  },
  {
   "cell_type": "code",
   "execution_count": 5,
   "id": "e17f7817-2bdb-4564-b8fa-1cd89b54c6c4",
   "metadata": {},
   "outputs": [],
   "source": [
    "#Normalizing The Dataset\n",
    "df_norm = pd.DataFrame(preprocessing.normalize(df),columns=df.columns)"
   ]
  },
  {
   "cell_type": "code",
   "execution_count": 6,
   "id": "3f542cee-74b3-426f-be57-1776b7c8d378",
   "metadata": {},
   "outputs": [
    {
     "data": {
      "text/html": [
       "<div>\n",
       "<style scoped>\n",
       "    .dataframe tbody tr th:only-of-type {\n",
       "        vertical-align: middle;\n",
       "    }\n",
       "\n",
       "    .dataframe tbody tr th {\n",
       "        vertical-align: top;\n",
       "    }\n",
       "\n",
       "    .dataframe thead th {\n",
       "        text-align: right;\n",
       "    }\n",
       "</style>\n",
       "<table border=\"1\" class=\"dataframe\">\n",
       "  <thead>\n",
       "    <tr style=\"text-align: right;\">\n",
       "      <th></th>\n",
       "      <th>No</th>\n",
       "      <th>X1 transaction date</th>\n",
       "      <th>X2 house age</th>\n",
       "      <th>X3 distance to the nearest MRT station</th>\n",
       "      <th>X4 number of convenience stores</th>\n",
       "      <th>X5 latitude</th>\n",
       "      <th>X6 longitude</th>\n",
       "      <th>Y house price of unit area</th>\n",
       "    </tr>\n",
       "  </thead>\n",
       "  <tbody>\n",
       "    <tr>\n",
       "      <th>0</th>\n",
       "      <td>0.000495</td>\n",
       "      <td>0.996909</td>\n",
       "      <td>0.015848</td>\n",
       "      <td>0.042037</td>\n",
       "      <td>0.004953</td>\n",
       "      <td>0.012373</td>\n",
       "      <td>0.060194</td>\n",
       "      <td>0.018770</td>\n",
       "    </tr>\n",
       "    <tr>\n",
       "      <th>1</th>\n",
       "      <td>0.000980</td>\n",
       "      <td>0.986502</td>\n",
       "      <td>0.009557</td>\n",
       "      <td>0.150258</td>\n",
       "      <td>0.004411</td>\n",
       "      <td>0.012243</td>\n",
       "      <td>0.059565</td>\n",
       "      <td>0.020682</td>\n",
       "    </tr>\n",
       "    <tr>\n",
       "      <th>2</th>\n",
       "      <td>0.001432</td>\n",
       "      <td>0.961229</td>\n",
       "      <td>0.006349</td>\n",
       "      <td>0.268276</td>\n",
       "      <td>0.002387</td>\n",
       "      <td>0.011928</td>\n",
       "      <td>0.058022</td>\n",
       "      <td>0.022580</td>\n",
       "    </tr>\n",
       "    <tr>\n",
       "      <th>3</th>\n",
       "      <td>0.001909</td>\n",
       "      <td>0.961141</td>\n",
       "      <td>0.006349</td>\n",
       "      <td>0.268263</td>\n",
       "      <td>0.002387</td>\n",
       "      <td>0.011928</td>\n",
       "      <td>0.058019</td>\n",
       "      <td>0.026159</td>\n",
       "    </tr>\n",
       "    <tr>\n",
       "      <th>4</th>\n",
       "      <td>0.002434</td>\n",
       "      <td>0.979673</td>\n",
       "      <td>0.002434</td>\n",
       "      <td>0.190095</td>\n",
       "      <td>0.002434</td>\n",
       "      <td>0.012158</td>\n",
       "      <td>0.059156</td>\n",
       "      <td>0.020977</td>\n",
       "    </tr>\n",
       "  </tbody>\n",
       "</table>\n",
       "</div>"
      ],
      "text/plain": [
       "         No  X1 transaction date  X2 house age  \\\n",
       "0  0.000495             0.996909      0.015848   \n",
       "1  0.000980             0.986502      0.009557   \n",
       "2  0.001432             0.961229      0.006349   \n",
       "3  0.001909             0.961141      0.006349   \n",
       "4  0.002434             0.979673      0.002434   \n",
       "\n",
       "   X3 distance to the nearest MRT station  X4 number of convenience stores  \\\n",
       "0                                0.042037                         0.004953   \n",
       "1                                0.150258                         0.004411   \n",
       "2                                0.268276                         0.002387   \n",
       "3                                0.268263                         0.002387   \n",
       "4                                0.190095                         0.002434   \n",
       "\n",
       "   X5 latitude  X6 longitude  Y house price of unit area  \n",
       "0     0.012373      0.060194                    0.018770  \n",
       "1     0.012243      0.059565                    0.020682  \n",
       "2     0.011928      0.058022                    0.022580  \n",
       "3     0.011928      0.058019                    0.026159  \n",
       "4     0.012158      0.059156                    0.020977  "
      ]
     },
     "execution_count": 6,
     "metadata": {},
     "output_type": "execute_result"
    }
   ],
   "source": [
    "df_norm.head()"
   ]
  },
  {
   "cell_type": "code",
   "execution_count": 7,
   "id": "dbea8962-3849-4376-8be9-d0d04aa2d1d0",
   "metadata": {},
   "outputs": [],
   "source": [
    "X,y = df_norm[[\"X2 house age\",\"X3 distance to the nearest MRT station\"]].values,df_norm[\"Y house price of unit area\"].values"
   ]
  },
  {
   "cell_type": "code",
   "execution_count": 8,
   "id": "75160d7a-f267-42b0-aec0-c3299da7a224",
   "metadata": {},
   "outputs": [
    {
     "data": {
      "text/plain": [
       "((414, 2), (414,))"
      ]
     },
     "execution_count": 8,
     "metadata": {},
     "output_type": "execute_result"
    }
   ],
   "source": [
    "# Shape of X and y\n",
    "X.shape,y.shape"
   ]
  },
  {
   "cell_type": "code",
   "execution_count": 9,
   "id": "c2ac7d21-87f0-4897-88f8-b10d14885258",
   "metadata": {},
   "outputs": [
    {
     "data": {
      "image/png": "[encoded data removed]",
      "text/plain": [
       "<Figure size 576x396 with 1 Axes>"
      ]
     },
     "metadata": {},
     "output_type": "display_data"
    }
   ],
   "source": [
    "# Plot Between X1 and y && X2 and y\n",
    "plt.scatter(X[:,0],y,marker='*',label=\"house age\")\n",
    "plt.scatter(X[:,1],y,marker='.',label=\"distance to the nearest MRT station\")\n",
    "plt.title(\"X1 vs y & X2 vs y\")\n",
    "plt.legend()\n",
    "plt.show()"
   ]
  },
  {
   "cell_type": "code",
   "execution_count": 10,
   "id": "0806da6d-8961-46cf-858a-1b7a563f8360",
   "metadata": {},
   "outputs": [],
   "source": [
    "# Splitting dataset in training and testing dataset\n",
    "X_train, X_test, y_train, y_test = train_test_split(X, y, test_size=0.25, random_state=42)"
   ]
  },
  {
   "cell_type": "code",
   "execution_count": 11,
   "id": "89c3f437-651b-41e5-aace-145fcf3af86c",
   "metadata": {},
   "outputs": [],
   "source": [
    "# creating Linearregression model\n",
    "model = LinearRegression()"
   ]
  },
  {
   "cell_type": "code",
   "execution_count": 12,
   "id": "4ede537e-0592-4187-927f-009787fd3618",
   "metadata": {},
   "outputs": [
    {
     "data": {
      "text/plain": [
       "LinearRegression()"
      ]
     },
     "execution_count": 12,
     "metadata": {},
     "output_type": "execute_result"
    }
   ],
   "source": [
    "# Fitting the model\n",
    "model.fit(X_train,y_train)"
   ]
  },
  {
   "cell_type": "code",
   "execution_count": 13,
   "id": "ea7a9665-ddab-42b0-a878-49315fa54036",
   "metadata": {},
   "outputs": [],
   "source": [
    "# Saving the model using pickle\n",
    "_model = \"model.sav\"\n",
    "with open(_model,\"wb+\") as f:\n",
    "    pickle.dump(model,f)"
   ]
  },
  {
   "cell_type": "code",
   "execution_count": 14,
   "id": "a698f851-9b48-4f03-a3c0-a216377cc7b4",
   "metadata": {},
   "outputs": [],
   "source": [
    "#Loading the model using pickle\n",
    "with open(_model,\"rb+\") as f:\n",
    "    model = pickle.load(f)"
   ]
  },
  {
   "cell_type": "code",
   "execution_count": 15,
   "id": "c9119cd6-67c6-45c5-9e86-1a13d83039df",
   "metadata": {},
   "outputs": [],
   "source": [
    "# Generating prediction of X_train and X_test \n",
    "y_train_predicted = model.predict(X_train)\n",
    "y_test_predicted = model.predict(X_test)"
   ]
  },
  {
   "cell_type": "code",
   "execution_count": 16,
   "id": "14a1986b-83ce-48b6-99a1-6e1c95cdf023",
   "metadata": {},
   "outputs": [],
   "source": [
    "# Saving Comparison of y_test_actual Vs y_test_predicted\n",
    "yTestDF = pd.DataFrame({'y_test_actual' : y_test,'y_test_predicted' : y_test_predicted})\n",
    "yTestDF.to_csv('y_test.csv',index=False)\n",
    "\n",
    "# Saving Comparison of y_train_actual Vs y_train_predicted\n",
    "yTrainDF = pd.DataFrame({'y_train_actual' : y_train,'y_train_predicted' : y_train_predicted})\n",
    "yTrainDF.to_csv('y_train.csv',index=False)"
   ]
  },
  {
   "cell_type": "code",
   "execution_count": 17,
   "id": "2bfed901-ae88-4199-8253-4fbafda85d2e",
   "metadata": {},
   "outputs": [
    {
     "data": {
      "text/plain": [
       "(array([-0.246001  , -0.02588088]), 0.028422853148569783)"
      ]
     },
     "execution_count": 17,
     "metadata": {},
     "output_type": "execute_result"
    }
   ],
   "source": [
    "# Model's Coefficient and Intercept\n",
    "model.coef_,model.intercept_,"
   ]
  },
  {
   "cell_type": "markdown",
   "id": "b000d296-524c-411e-9272-e92d366fd309",
   "metadata": {
    "tags": []
   },
   "source": [
    "#### Linear Regression\n",
    "**y = m1 * x1 + m2 * x2 + c**\n",
    "```\n",
    "Here,\n",
    "x1 = House age\n",
    "\n",
    "x2 = Distance to the nearest MRT station\n",
    "\n",
    "y = House price of unit area\n",
    "\n",
    "\n",
    "m1 = -0.230986\n",
    "\n",
    "m2 = -0.00739114\n",
    "\n",
    "c = 50.512646973853776\n",
    "```"
   ]
  },
  {
   "cell_type": "code",
   "execution_count": 18,
   "id": "1aea779d-b56b-4694-b0c7-582d67197de7",
   "metadata": {},
   "outputs": [],
   "source": [
    "# Genrating a Best Fit Line\n",
    "m1, m2 = model.coef_\n",
    "c = model.intercept_\n",
    "\n",
    "_X1 = np.linspace(min(X[:,0]),max(X[:,0]),100)\n",
    "_X2 = np.linspace(min(X[:,1]),max(X[:,1]),100)\n",
    "_y = m1 * _X1 + m2 * _X2 + c"
   ]
  },
  {
   "cell_type": "code",
   "execution_count": 19,
   "id": "8476c204-639e-4057-a315-d699e6973d38",
   "metadata": {},
   "outputs": [
    {
     "data": {
      "image/png": "[encoded data removed]",
      "text/plain": [
       "<Figure size 576x396 with 1 Axes>"
      ]
     },
     "metadata": {},
     "output_type": "display_data"
    }
   ],
   "source": [
    "#plotting The Best Fit Line\n",
    "plt.plot(_X1,_y,label=\"house age vs house price of unit area\")\n",
    "plt.plot(_X2,_y,label=\"distance to the nearest MRT station vs house price of unit area\")\n",
    "plt.title(\"Best Fit Line\")\n",
    "plt.legend()\n",
    "plt.show()"
   ]
  },
  {
   "cell_type": "code",
   "execution_count": 20,
   "id": "17d1d2c7-ecbd-4e72-84f2-554261f3fd05",
   "metadata": {},
   "outputs": [
    {
     "name": "stdout",
     "output_type": "stream",
     "text": [
      "0.06291588852786793\n",
      "-0.8490051041799057\n",
      "Since Absolute Value of corr2 is greater than corr1, that means Distance to the nearest MRT station is more significant predictor of house price.\n"
     ]
    }
   ],
   "source": [
    "# Genrating Correlation between X and y\n",
    "\n",
    "corr1 = pd.Series(y).corr(pd.Series(X[:,0]))\n",
    "corr2 = pd.Series(y).corr(pd.Series(X[:,1]))\n",
    "\n",
    "print(corr1)\n",
    "print(corr2)\n",
    "\n",
    "print(\"Since Absolute Value of corr2 is greater than corr1, that means Distance to the nearest MRT station is more significant predictor of house price.\")"
   ]
  },
  {
   "cell_type": "code",
   "execution_count": 21,
   "id": "553f8bb1-cd9e-4e47-85af-9b86786eb81e",
   "metadata": {},
   "outputs": [],
   "source": [
    "# Calculating all Errors\n",
    "def calculateError(y_actual,y_pred):\n",
    "    MSE = mean_squared_error(y_actual,y_pred)\n",
    "    MAE = mean_absolute_error(y_actual,y_pred)\n",
    "    RMSE = np.sqrt(MSE)\n",
    "    return MSE,MAE,RMSE"
   ]
  },
  {
   "cell_type": "code",
   "execution_count": 22,
   "id": "b7d237f9-440f-497a-9cad-62f0bac3b80c",
   "metadata": {},
   "outputs": [],
   "source": [
    "err = calculateError(y_train,y_train_predicted)\n",
    "trainError = {\n",
    "    \"Mean Square Error\" : err[0],\n",
    "    \"Mean Absolute Error\" : err[1],\n",
    "    \"Root Mean Square Error\" : err[2]\n",
    "}\n",
    "\n",
    "err = calculateError(y_test,y_test_predicted)\n",
    "testError = {\n",
    "    \"Mean Square Error\" : err[0],\n",
    "    \"Mean Absolute Error\" : err[1],\n",
    "    \"Root Mean Square Error\" : err[2]\n",
    "}"
   ]
  },
  {
   "cell_type": "code",
   "execution_count": 23,
   "id": "ca785593-3969-45da-a157-71c8ea3dce0e",
   "metadata": {},
   "outputs": [
    {
     "data": {
      "text/plain": [
       "{'Mean Square Error': 1.6452977361902908e-05,\n",
       " 'Mean Absolute Error': 0.002580247788872046,\n",
       " 'Root Mean Square Error': 0.004056226985993622}"
      ]
     },
     "execution_count": 23,
     "metadata": {},
     "output_type": "execute_result"
    }
   ],
   "source": [
    "trainError"
   ]
  },
  {
   "cell_type": "code",
   "execution_count": 24,
   "id": "4255ff0b-c4c0-4730-99ff-575b4bbc59c1",
   "metadata": {},
   "outputs": [
    {
     "data": {
      "text/plain": [
       "{'Mean Square Error': 1.4101654076483651e-05,\n",
       " 'Mean Absolute Error': 0.0023702337612418176,\n",
       " 'Root Mean Square Error': 0.0037552169147046155}"
      ]
     },
     "execution_count": 24,
     "metadata": {},
     "output_type": "execute_result"
    }
   ],
   "source": [
    "testError"
   ]
  },
  {
   "cell_type": "code",
   "execution_count": null,
   "id": "21b34edc-472b-4e4d-9273-569119e37bad",
   "metadata": {},
   "outputs": [],
   "source": []
  }
 ],
 "metadata": {
  "kernelspec": {
   "display_name": "Python 3 (ipykernel)",
   "language": "python",
   "name": "python3"
  },
  "language_info": {
   "codemirror_mode": {
    "name": "ipython",
    "version": 3
   },
   "file_extension": ".py",
   "mimetype": "text/x-python",
   "name": "python",
   "nbconvert_exporter": "python",
   "pygments_lexer": "ipython3",
   "version": "3.9.6"
  }
 },
 "nbformat": 4,
 "nbformat_minor": 5
}
