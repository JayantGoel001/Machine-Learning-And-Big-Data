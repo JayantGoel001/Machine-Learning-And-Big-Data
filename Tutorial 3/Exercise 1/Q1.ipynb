{
 "cells": [
  {
   "cell_type": "code",
   "execution_count": null,
   "id": "34bdaead-60d8-41fc-8419-2bb7a9f6d8a7",
   "metadata": {},
   "outputs": [],
   "source": [
    "# Importing Libraries\n",
    "import pandas as pd\n",
    "import numpy as np\n",
    "from sklearn.model_selection import train_test_split\n",
    "from sklearn.linear_model import LinearRegression\n",
    "from sklearn.metrics import mean_squared_error,mean_absolute_error\n",
    "import pickle\n",
    "from sklearn import preprocessing\n",
    "import matplotlib.pyplot as plt\n",
    "# using Seaborn Style\n",
    "plt.style.use('seaborn')"
   ]
  },
  {
   "cell_type": "code",
   "execution_count": null,
   "id": "a78205a6-44a6-4064-8039-cab3802dc2a4",
   "metadata": {},
   "outputs": [],
   "source": [
    "# Reading CSV File using Pandas\n",
    "df = pd.read_csv('../Real estate.csv')"
   ]
  },
  {
   "cell_type": "code",
   "execution_count": null,
   "id": "f4083735-f300-485d-b3d9-22fcb0ceb31a",
   "metadata": {},
   "outputs": [],
   "source": [
    "# Columns Names\n",
    "df.columns"
   ]
  },
  {
   "cell_type": "code",
   "execution_count": null,
   "id": "2aa581fa-4d22-4626-bee8-4fa38db31006",
   "metadata": {},
   "outputs": [],
   "source": [
    "df.head()"
   ]
  },
  {
   "cell_type": "code",
   "execution_count": null,
   "id": "e17f7817-2bdb-4564-b8fa-1cd89b54c6c4",
   "metadata": {},
   "outputs": [],
   "source": [
    "#Normalizing The Dataset\n",
    "df_norm = pd.DataFrame(preprocessing.normalize(df),columns=df.columns)"
   ]
  },
  {
   "cell_type": "code",
   "execution_count": null,
   "id": "3f542cee-74b3-426f-be57-1776b7c8d378",
   "metadata": {},
   "outputs": [],
   "source": [
    "df_norm.head()"
   ]
  },
  {
   "cell_type": "code",
   "execution_count": null,
   "id": "dbea8962-3849-4376-8be9-d0d04aa2d1d0",
   "metadata": {},
   "outputs": [],
   "source": [
    "X,y = df_norm[[\"X2 house age\",\"X3 distance to the nearest MRT station\"]].values,df_norm[\"Y house price of unit area\"].values"
   ]
  },
  {
   "cell_type": "code",
   "execution_count": null,
   "id": "75160d7a-f267-42b0-aec0-c3299da7a224",
   "metadata": {},
   "outputs": [],
   "source": [
    "# Shape of X and y\n",
    "X.shape,y.shape"
   ]
  },
  {
   "cell_type": "code",
   "execution_count": null,
   "id": "c2ac7d21-87f0-4897-88f8-b10d14885258",
   "metadata": {},
   "outputs": [],
   "source": [
    "# Plot Between X1 and y && X2 and y\n",
    "plt.scatter(X[:,0],y,marker='*',label=\"house age\")\n",
    "plt.scatter(X[:,1],y,marker='.',label=\"distance to the nearest MRT station\")\n",
    "plt.title(\"X1 vs y & X2 vs y\")\n",
    "plt.legend()\n",
    "plt.show()"
   ]
  },
  {
   "cell_type": "code",
   "execution_count": null,
   "id": "0806da6d-8961-46cf-858a-1b7a563f8360",
   "metadata": {},
   "outputs": [],
   "source": [
    "# Splitting dataset in training and testing dataset\n",
    "X_train, X_test, y_train, y_test = train_test_split(X, y, test_size=0.25, random_state=42)"
   ]
  },
  {
   "cell_type": "code",
   "execution_count": null,
   "id": "89c3f437-651b-41e5-aace-145fcf3af86c",
   "metadata": {},
   "outputs": [],
   "source": [
    "# creating Linearregression model\n",
    "model = LinearRegression()"
   ]
  },
  {
   "cell_type": "code",
   "execution_count": null,
   "id": "4ede537e-0592-4187-927f-009787fd3618",
   "metadata": {},
   "outputs": [],
   "source": [
    "# Fitting the model\n",
    "model.fit(X_train,y_train)"
   ]
  },
  {
   "cell_type": "code",
   "execution_count": null,
   "id": "ea7a9665-ddab-42b0-a878-49315fa54036",
   "metadata": {},
   "outputs": [],
   "source": [
    "# Saving the model using pickle\n",
    "_model = \"model.sav\"\n",
    "with open(_model,\"wb+\") as f:\n",
    "    pickle.dump(model,f)"
   ]
  },
  {
   "cell_type": "code",
   "execution_count": null,
   "id": "a698f851-9b48-4f03-a3c0-a216377cc7b4",
   "metadata": {},
   "outputs": [],
   "source": [
    "#Loading the model using pickle\n",
    "with open(_model,\"rb+\") as f:\n",
    "    model = pickle.load(f)"
   ]
  },
  {
   "cell_type": "code",
   "execution_count": null,
   "id": "c9119cd6-67c6-45c5-9e86-1a13d83039df",
   "metadata": {},
   "outputs": [],
   "source": [
    "# Generating prediction of X_train and X_test \n",
    "y_train_predicted = model.predict(X_train)\n",
    "y_test_predicted = model.predict(X_test)"
   ]
  },
  {
   "cell_type": "code",
   "execution_count": null,
   "id": "14a1986b-83ce-48b6-99a1-6e1c95cdf023",
   "metadata": {},
   "outputs": [],
   "source": [
    "# Saving Comparison of y_test_actual Vs y_test_predicted\n",
    "yTestDF = pd.DataFrame({'y_test_actual' : y_test,'y_test_predicted' : y_test_predicted})\n",
    "yTestDF.to_csv('y_test.csv',index=False)\n",
    "\n",
    "# Saving Comparison of y_train_actual Vs y_train_predicted\n",
    "yTrainDF = pd.DataFrame({'y_train_actual' : y_train,'y_train_predicted' : y_train_predicted})\n",
    "yTrainDF.to_csv('y_train.csv',index=False)"
   ]
  },
  {
   "cell_type": "code",
   "execution_count": null,
   "id": "2bfed901-ae88-4199-8253-4fbafda85d2e",
   "metadata": {},
   "outputs": [],
   "source": [
    "# Model's Coefficient and Intercept\n",
    "model.coef_,model.intercept_,"
   ]
  },
  {
   "cell_type": "markdown",
   "id": "b000d296-524c-411e-9272-e92d366fd309",
   "metadata": {
    "tags": []
   },
   "source": [
    "#### Linear Regression\n",
    "**y = m1 * x1 + m2 * x2 + c**\n",
    "```\n",
    "Here,\n",
    "x1 = House age\n",
    "\n",
    "x2 = Distance to the nearest MRT station\n",
    "\n",
    "y = House price of unit area\n",
    "\n",
    "\n",
    "m1 = -0.230986\n",
    "\n",
    "m2 = -0.00739114\n",
    "\n",
    "c = 50.512646973853776\n",
    "```"
   ]
  },
  {
   "cell_type": "code",
   "execution_count": null,
   "id": "1aea779d-b56b-4694-b0c7-582d67197de7",
   "metadata": {},
   "outputs": [],
   "source": [
    "# Genrating a Best Fit Line\n",
    "m1, m2 = model.coef_\n",
    "c = model.intercept_\n",
    "\n",
    "_X1 = np.linspace(min(X[:,0]),max(X[:,0]),100)\n",
    "_X2 = np.linspace(min(X[:,1]),max(X[:,1]),100)\n",
    "_y = m1 * _X1 + m2 * _X2 + c"
   ]
  },
  {
   "cell_type": "code",
   "execution_count": null,
   "id": "8476c204-639e-4057-a315-d699e6973d38",
   "metadata": {},
   "outputs": [],
   "source": [
    "#plotting The Best Fit Line\n",
    "plt.plot(_X1,_y,label=\"house age vs house price of unit area\")\n",
    "plt.plot(_X2,_y,label=\"distance to the nearest MRT station vs house price of unit area\")\n",
    "plt.title(\"Best Fit Line\")\n",
    "plt.legend()\n",
    "plt.show()"
   ]
  },
  {
   "cell_type": "code",
   "execution_count": null,
   "id": "553f8bb1-cd9e-4e47-85af-9b86786eb81e",
   "metadata": {},
   "outputs": [],
   "source": [
    "# Calculating all Errors\n",
    "def calculateError(y_actual,y_pred):\n",
    "    MSE = mean_squared_error(y_actual,y_pred)\n",
    "    MAE = mean_absolute_error(y_actual,y_pred)\n",
    "    RMSE = np.sqrt(MSE)\n",
    "    return MSE,MAE,RMSE"
   ]
  },
  {
   "cell_type": "code",
   "execution_count": null,
   "id": "b7d237f9-440f-497a-9cad-62f0bac3b80c",
   "metadata": {},
   "outputs": [],
   "source": [
    "err = calculateError(y_train,y_train_predicted)\n",
    "trainError = {\n",
    "    \"Mean Square Error\" : err[0],\n",
    "    \"Mean Absolute Error\" : err[1],\n",
    "    \"Root Mean Square Error\" : err[2]\n",
    "}\n",
    "\n",
    "err = calculateError(y_test,y_test_predicted)\n",
    "testError = {\n",
    "    \"Mean Square Error\" : err[0],\n",
    "    \"Mean Absolute Error\" : err[1],\n",
    "    \"Root Mean Square Error\" : err[2]\n",
    "}"
   ]
  },
  {
   "cell_type": "code",
   "execution_count": null,
   "id": "ca785593-3969-45da-a157-71c8ea3dce0e",
   "metadata": {},
   "outputs": [],
   "source": [
    "trainError"
   ]
  },
  {
   "cell_type": "code",
   "execution_count": null,
   "id": "4255ff0b-c4c0-4730-99ff-575b4bbc59c1",
   "metadata": {},
   "outputs": [],
   "source": [
    "testError"
   ]
  },
  {
   "cell_type": "code",
   "execution_count": null,
   "id": "21b34edc-472b-4e4d-9273-569119e37bad",
   "metadata": {},
   "outputs": [],
   "source": []
  }
 ],
 "metadata": {
  "kernelspec": {
   "display_name": "Python 3 (ipykernel)",
   "language": "python",
   "name": "python3"
  },
  "language_info": {
   "codemirror_mode": {
    "name": "ipython",
    "version": 3
   },
   "file_extension": ".py",
   "mimetype": "text/x-python",
   "name": "python",
   "nbconvert_exporter": "python",
   "pygments_lexer": "ipython3",
   "version": "3.9.6"
  }
 },
 "nbformat": 4,
 "nbformat_minor": 5
}
