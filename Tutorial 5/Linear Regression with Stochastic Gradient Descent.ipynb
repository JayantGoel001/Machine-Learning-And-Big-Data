{
 "cells": [
  {
   "cell_type": "code",
   "execution_count": 212,
   "id": "c904dae6-5db9-4e89-83a9-3dee74cc00aa",
   "metadata": {},
   "outputs": [],
   "source": [
    "import numpy as np"
   ]
  },
  {
   "cell_type": "code",
   "execution_count": 213,
   "id": "9c234142-b21e-41e6-a22e-35be8c863251",
   "metadata": {},
   "outputs": [],
   "source": [
    "X = np.array([[4,1],[2,8],[1,0],[3,2],[1,4],[6,7]])\n",
    "\n",
    "y = np.array([2,-14,1,-1,-7,-8])"
   ]
  },
  {
   "cell_type": "code",
   "execution_count": 214,
   "id": "fea636f9-2575-4684-8245-7adeb26ef43f",
   "metadata": {},
   "outputs": [
    {
     "name": "stdout",
     "output_type": "stream",
     "text": [
      "(6, 2)\n",
      "(6,)\n"
     ]
    }
   ],
   "source": [
    "print(X.shape)\n",
    "print(y.shape)"
   ]
  },
  {
   "cell_type": "code",
   "execution_count": 215,
   "id": "8e1f87e5-dafc-4764-ba3e-ee2b35ac4438",
   "metadata": {},
   "outputs": [],
   "source": [
    "def error(y,_y):\n",
    "    return (_y-y)**2\n",
    "\n",
    "def output(x,w,b):\n",
    "    return np.dot(x,w) + b\n",
    "\n",
    "def updateWeights(w,b,x,y,lr):\n",
    "    _y = output(x,w,b)\n",
    "\n",
    "    w -= lr * (_y - y) * x\n",
    "    b -= lr * (_y - y)\n",
    "    return w,b\n",
    "\n",
    "def generate_batch(X,y,batch):\n",
    "    index = np.arange(len(X))\n",
    "    np.random.shuffle(index)\n",
    "    \n",
    "    X_ = X[index[:batch]]\n",
    "    y_ = y[index[:batch]]\n",
    "    \n",
    "    return X_,y_"
   ]
  },
  {
   "cell_type": "code",
   "execution_count": 216,
   "id": "99296992-803f-4097-9d27-33f6255c94c6",
   "metadata": {},
   "outputs": [],
   "source": [
    "w = np.array([0.003,0.032])\n",
    "b = 0.000\n",
    "epochs = 1\n",
    "lr = 0.05 * 2\n",
    "\n",
    "batch = X.shape[0]\n",
    "\n",
    "error_list = []\n",
    "w_list = []\n",
    "b_list = []\n",
    "\n",
    "for i in range(epochs):\n",
    "    err = 0\n",
    "    for j in range(0,batch):\n",
    "        y_pred = output(X[j],w,b)\n",
    "        err = error(y[j],y_pred)\n",
    "        w,b = updateWeights(w,b,X[j],y[j],lr)\n",
    "        w_list.append([w[0],w[1]])\n",
    "        b_list.append(b)\n",
    "        error_list.append(err)"
   ]
  },
  {
   "cell_type": "code",
   "execution_count": 217,
   "id": "1998feb3-380f-4262-98d3-f4a29a0976bf",
   "metadata": {},
   "outputs": [
    {
     "data": {
      "text/plain": [
       "[3.825936,\n",
       " 309.30960383999997,\n",
       " 28.0387194256,\n",
       " 1178.2396756460155,\n",
       " 108.45499510825982,\n",
       " 2169.6846245919755]"
      ]
     },
     "execution_count": 217,
     "metadata": {},
     "output_type": "execute_result"
    }
   ],
   "source": [
    "error_list"
   ]
  },
  {
   "cell_type": "code",
   "execution_count": 218,
   "id": "4e3b7ce0-f5e4-461e-969f-6f5562e678df",
   "metadata": {},
   "outputs": [],
   "source": [
    "w_list = np.array(w_list)\n",
    "b_list = np.array(b_list)\n",
    "weights = np.column_stack((w_list,b_list))"
   ]
  },
  {
   "cell_type": "code",
   "execution_count": 219,
   "id": "65592ec8-c59e-4cb1-a4be-afb2ecd7d554",
   "metadata": {},
   "outputs": [
    {
     "data": {
      "text/plain": [
       "array([[  0.7854    ,   0.2276    ,   0.1956    ],\n",
       "       [ -2.73204   , -13.84216   ,  -1.56312   ],\n",
       "       [ -2.202524  , -13.84216   ,  -1.033604  ],\n",
       "       [  8.0951248 ,  -6.9770608 ,   2.3989456 ],\n",
       "       [  9.13654208,  -2.81139168,   3.44036288],\n",
       "       [-18.81138208, -35.4173032 ,  -1.21762448]])"
      ]
     },
     "execution_count": 219,
     "metadata": {},
     "output_type": "execute_result"
    }
   ],
   "source": [
    "weights"
   ]
  },
  {
   "cell_type": "code",
   "execution_count": null,
   "id": "4020373e-eec5-4af5-8527-0b34309df78b",
   "metadata": {},
   "outputs": [],
   "source": []
  }
 ],
 "metadata": {
  "kernelspec": {
   "display_name": "Python 3 (ipykernel)",
   "language": "python",
   "name": "python3"
  },
  "language_info": {
   "codemirror_mode": {
    "name": "ipython",
    "version": 3
   },
   "file_extension": ".py",
   "mimetype": "text/x-python",
   "name": "python",
   "nbconvert_exporter": "python",
   "pygments_lexer": "ipython3",
   "version": "3.7.0"
  }
 },
 "nbformat": 4,
 "nbformat_minor": 5
}
